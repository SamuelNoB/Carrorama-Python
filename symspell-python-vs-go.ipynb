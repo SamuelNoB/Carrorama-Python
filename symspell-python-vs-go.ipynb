{
 "cells": [
  {
   "cell_type": "markdown",
   "metadata": {},
   "source": [
    "# Teste do SymSpellPy\n",
    "\n",
    "### Objetivo:\n",
    "\n",
    "Analizar e comparar os tempos que o [SymSpellPy](https://symspellpy.readthedocs.io/en/latest/index.html) e o Spellchecker da Pre-Processing realizam a mesma atividade para assim ver se é possível a substituição do Spellchecker que é utilizado no laboratório (escrito em Go) por um que tenha sido escrito em Python."
   ]
  },
  {
   "cell_type": "code",
   "execution_count": 1,
   "metadata": {},
   "outputs": [
    {
     "name": "stderr",
     "output_type": "stream",
     "text": [
      "[nltk_data] Downloading package stopwords to\n",
      "[nltk_data]     /home/matheus/nltk_data...\n",
      "[nltk_data]   Unzipping corpora/stopwords.zip.\n",
      "[nltk_data] Downloading package punkt to /home/matheus/nltk_data...\n",
      "[nltk_data]   Unzipping tokenizers/punkt.zip.\n"
     ]
    }
   ],
   "source": [
    "from symspellpy import SymSpell, Verbosity\n",
    "from pre_processing import CorpusHandler as ch\n",
    "import time\n",
    "import pandas as pd"
   ]
  },
  {
   "cell_type": "markdown",
   "metadata": {},
   "source": [
    "# Funções para automatizar o trabalho"
   ]
  },
  {
   "cell_type": "markdown",
   "metadata": {},
   "source": [
    "## Funções com SymSpellPy"
   ]
  },
  {
   "cell_type": "code",
   "execution_count": 2,
   "metadata": {},
   "outputs": [],
   "source": [
    "def spellPy(wrong_string):\n",
    "\n",
    "    sym_spell = SymSpell(max_dictionary_edit_distance=2, prefix_length=7)\n",
    "\n",
    "    dictionary_path = \"/home/matheus/Documents/UNB/AILab/spellcheker/vocabulary.txt\"\n",
    "\n",
    "    if not sym_spell.create_dictionary(dictionary_path):\n",
    "        print(\"dictionary_path invalid!\")\n",
    "        return\n",
    "\n",
    "\n",
    "    print(\"Number of words in the dictionary {}\".format(sym_spell.word_count))\n",
    "\n",
    "    print(type(wrong_string))\n",
    "    if type(wrong_string) == list:\n",
    "        initialTime = time.process_time()\n",
    "        spellList(wrong_string, sym_spell)\n",
    "        return time.process_time() - initialTime\n",
    "    elif (len(wrong_string.split(' '))) == 1:\n",
    "        initialTime = time.process_time()\n",
    "        spellWord(wrong_string, sym_spell)\n",
    "        return time.process_time() - initialTime\n",
    "    else:\n",
    "        initialTime = time.process_time()\n",
    "        spellPhrase(wrong_string, sym_spell)\n",
    "        return time.process_time() - initialTime\n",
    "\n",
    "\n",
    "\n",
    "def spellWord(input_term, sym_spell):\n",
    "    suggestions = sym_spell.lookup(input_term, Verbosity.CLOSEST, 2)\n",
    "\n",
    "    for suggestion in suggestions:\n",
    "        print(\"{} {} {}\".format(suggestion.term,suggestion.distance, suggestion.count))\n",
    "\n",
    "def spellPhrase(input_term, sym_spell):\n",
    "    suggestions = sym_spell.lookup_compound(input_term,2)\n",
    "   \n",
    "\n",
    "def spellList(input_term, sym_spell):\n",
    "    for i in input_term:\n",
    "        spellPhrase(i,sym_spell)"
   ]
  },
  {
   "cell_type": "markdown",
   "metadata": {},
   "source": [
    "## Funções com o Spellchecker da Pre-Prrocessing"
   ]
  },
  {
   "cell_type": "code",
   "execution_count": 3,
   "metadata": {},
   "outputs": [],
   "source": [
    "def preProcessing(text):\n",
    "        initial_time = time.process_time()\n",
    "\n",
    "        result = ch.spellchecker_batch([(0,text)])\n",
    "\n",
    "\n",
    "        # print(result)\n",
    "        return time.process_time() - initial_time\n",
    "\n",
    "def preProcess_list(text):\n",
    "    initial_time = time.process_time()\n",
    "    result = ch.spellchecker_batch(list(enumerate(text)))\n",
    "\n",
    "    # print(result)\n",
    "\n",
    "    return time.process_time() - initial_time\n"
   ]
  },
  {
   "cell_type": "markdown",
   "metadata": {},
   "source": [
    "# Teste com apenas uma string grande"
   ]
  },
  {
   "cell_type": "code",
   "execution_count": 4,
   "metadata": {},
   "outputs": [
    {
     "name": "stdout",
     "output_type": "stream",
     "text": [
      "Number of words in the dictionary 258463\n",
      "<class 'str'>\n",
      "9.909895822000001\n"
     ]
    }
   ],
   "source": [
    "time_symspellpy = spellPy(\"\"\"Teste com uma string bem grande\"\"\" * 100)\n",
    "print(time_symspellpy)"
   ]
  },
  {
   "cell_type": "code",
   "execution_count": 5,
   "metadata": {},
   "outputs": [
    {
     "name": "stderr",
     "output_type": "stream",
     "text": [
      "Publishing tasks: 100%|██████████| 1/1 [00:00<00:00, 553.85task/s]\n",
      "Running spellchecker: 100%|██████████| 1/1 [00:00<00:00, 58.61texts/s]"
     ]
    },
    {
     "name": "stdout",
     "output_type": "stream",
     "text": [
      "0.03455803299999971\n"
     ]
    },
    {
     "name": "stderr",
     "output_type": "stream",
     "text": [
      "\n"
     ]
    }
   ],
   "source": [
    "time_pre_processing = preProcessing(\"\"\"Teste com uma string bem grande\"\"\" * 100)\n",
    "print(time_pre_processing)"
   ]
  },
  {
   "cell_type": "markdown",
   "metadata": {},
   "source": [
    "### Analisando os tempos\n",
    "\n",
    "Tabela para melhor vizualização"
   ]
  },
  {
   "cell_type": "code",
   "execution_count": 6,
   "metadata": {},
   "outputs": [
    {
     "data": {
      "text/html": [
       "<div>\n",
       "<style scoped>\n",
       "    .dataframe tbody tr th:only-of-type {\n",
       "        vertical-align: middle;\n",
       "    }\n",
       "\n",
       "    .dataframe tbody tr th {\n",
       "        vertical-align: top;\n",
       "    }\n",
       "\n",
       "    .dataframe thead th {\n",
       "        text-align: right;\n",
       "    }\n",
       "</style>\n",
       "<table border=\"1\" class=\"dataframe\">\n",
       "  <thead>\n",
       "    <tr style=\"text-align: right;\">\n",
       "      <th></th>\n",
       "      <th>symSpellPy</th>\n",
       "      <th>Pre-Processing</th>\n",
       "    </tr>\n",
       "  </thead>\n",
       "  <tbody>\n",
       "    <tr>\n",
       "      <td>Tempo</td>\n",
       "      <td>9.909896</td>\n",
       "      <td>0.034558</td>\n",
       "    </tr>\n",
       "  </tbody>\n",
       "</table>\n",
       "</div>"
      ],
      "text/plain": [
       "       symSpellPy  Pre-Processing\n",
       "Tempo    9.909896        0.034558"
      ]
     },
     "execution_count": 6,
     "metadata": {},
     "output_type": "execute_result"
    }
   ],
   "source": [
    "table = pd.DataFrame(data=[ [time_symspellpy , time_pre_processing ]], columns=[\"symSpellPy\", \"Pre-Processing\"],index=[\"Tempo\"])\n",
    "table"
   ]
  },
  {
   "cell_type": "markdown",
   "metadata": {},
   "source": [
    "O tempo usado pela lib SymSpellPy é aproximadamente 332.76 vezes o tempo que o Pre-Processing usou"
   ]
  },
  {
   "cell_type": "code",
   "execution_count": 7,
   "metadata": {},
   "outputs": [
    {
     "data": {
      "text/plain": [
       "286.7609919233564"
      ]
     },
     "execution_count": 7,
     "metadata": {},
     "output_type": "execute_result"
    }
   ],
   "source": [
    "time_symspellpy/time_pre_processing"
   ]
  },
  {
   "cell_type": "markdown",
   "metadata": {},
   "source": [
    "# Comparação usando várias strings pequenas"
   ]
  },
  {
   "cell_type": "code",
   "execution_count": 8,
   "metadata": {},
   "outputs": [],
   "source": [
    "text = [\n",
    "    \"começo da lista de textos\",\n",
    "    \"essa parte é pato\",\n",
    "    \"hoje tem gol do Gabigol\",\n",
    "    \"Espero que dê tudo certo\",\n",
    "    \"Tenho de terminar essa tarefa logo\",\n",
    "    \"porém a pressa é inimiga da perfeição\",\n",
    "    \"Logo, acho que eu deveria demorar bastante\",\n",
    "    \"não é possivel demorar\",\n",
    "    \"irei logo mais ir mostrar os resultados\",\n",
    "    \"antes de mais nada\",\n",
    "    \"fim da lista\"\n",
    "]*50"
   ]
  },
  {
   "cell_type": "code",
   "execution_count": 9,
   "metadata": {},
   "outputs": [
    {
     "name": "stdout",
     "output_type": "stream",
     "text": [
      "Number of words in the dictionary 258463\n",
      "<class 'list'>\n"
     ]
    },
    {
     "data": {
      "text/plain": [
       "3.176298054"
      ]
     },
     "execution_count": 9,
     "metadata": {},
     "output_type": "execute_result"
    }
   ],
   "source": [
    "time_symspell_list = spellPy(text)\n",
    "time_symspell_list"
   ]
  },
  {
   "cell_type": "code",
   "execution_count": 10,
   "metadata": {},
   "outputs": [
    {
     "name": "stderr",
     "output_type": "stream",
     "text": [
      "Publishing tasks: 100%|██████████| 550/550 [00:00<00:00, 6522.30task/s]\n",
      "Running spellchecker: 100%|██████████| 550/550 [00:00<00:00, 3117.16texts/s]\n"
     ]
    },
    {
     "data": {
      "text/plain": [
       "0.2444506120000014"
      ]
     },
     "execution_count": 10,
     "metadata": {},
     "output_type": "execute_result"
    }
   ],
   "source": [
    "time_pre_processing_list = preProcess_list(text)\n",
    "time_pre_processing_list"
   ]
  },
  {
   "cell_type": "markdown",
   "metadata": {},
   "source": [
    "### Analisando os tempos\n",
    "\n",
    "Tabela para melhor vizualização"
   ]
  },
  {
   "cell_type": "code",
   "execution_count": 11,
   "metadata": {},
   "outputs": [
    {
     "data": {
      "text/html": [
       "<div>\n",
       "<style scoped>\n",
       "    .dataframe tbody tr th:only-of-type {\n",
       "        vertical-align: middle;\n",
       "    }\n",
       "\n",
       "    .dataframe tbody tr th {\n",
       "        vertical-align: top;\n",
       "    }\n",
       "\n",
       "    .dataframe thead th {\n",
       "        text-align: right;\n",
       "    }\n",
       "</style>\n",
       "<table border=\"1\" class=\"dataframe\">\n",
       "  <thead>\n",
       "    <tr style=\"text-align: right;\">\n",
       "      <th></th>\n",
       "      <th>symSpellPy</th>\n",
       "      <th>Pre-Processing</th>\n",
       "    </tr>\n",
       "  </thead>\n",
       "  <tbody>\n",
       "    <tr>\n",
       "      <td>Tempo</td>\n",
       "      <td>3.176298</td>\n",
       "      <td>0.244451</td>\n",
       "    </tr>\n",
       "  </tbody>\n",
       "</table>\n",
       "</div>"
      ],
      "text/plain": [
       "       symSpellPy  Pre-Processing\n",
       "Tempo    3.176298        0.244451"
      ]
     },
     "execution_count": 11,
     "metadata": {},
     "output_type": "execute_result"
    }
   ],
   "source": [
    "table = pd.DataFrame(data=[ [time_symspell_list , time_pre_processing_list]], columns=[\"symSpellPy\", \"Pre-Processing\"],index=[\"Tempo\"])\n",
    "table"
   ]
  },
  {
   "cell_type": "markdown",
   "metadata": {},
   "source": [
    "O tempo usado pela lib do SymSpellPy levou 13.56 a mais do que a Pre-Processing levou"
   ]
  },
  {
   "cell_type": "code",
   "execution_count": 12,
   "metadata": {},
   "outputs": [
    {
     "data": {
      "text/plain": [
       "12.993618743732096"
      ]
     },
     "execution_count": 12,
     "metadata": {},
     "output_type": "execute_result"
    }
   ],
   "source": [
    "time_symspell_list/time_pre_processing_list"
   ]
  },
  {
   "cell_type": "markdown",
   "metadata": {},
   "source": [
    "## Conclusão\n",
    "\n",
    "Concluimos que é inviável a utilização da SymSpellPy no laboratório do AI.Lab, pois apesar dela ser escrita em Python e isso trazer uma facilidade para as pessoas que pesquisam no laboratório, tendo em vista o grande uso da linguagem por parte da equipe, ela se mostrou muito lenta quando comparada com a sua concorrente escrita em Go."
   ]
  }
 ],
 "metadata": {
  "kernelspec": {
   "display_name": "Python 3",
   "language": "python",
   "name": "python3"
  },
  "language_info": {
   "codemirror_mode": {
    "name": "ipython",
    "version": 3
   },
   "file_extension": ".py",
   "mimetype": "text/x-python",
   "name": "python",
   "nbconvert_exporter": "python",
   "pygments_lexer": "ipython3",
   "version": "3.7.4"
  }
 },
 "nbformat": 4,
 "nbformat_minor": 4
}
